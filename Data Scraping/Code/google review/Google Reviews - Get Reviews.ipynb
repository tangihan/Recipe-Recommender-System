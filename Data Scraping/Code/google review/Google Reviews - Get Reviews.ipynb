{
 "cells": [
  {
   "cell_type": "code",
   "execution_count": 1,
   "source": [
    "from selenium import webdriver\r\n",
    "from selenium.webdriver.common.by import By\r\n",
    "from selenium.webdriver.support.ui import WebDriverWait\r\n",
    "from selenium.webdriver.support import expected_conditions as EC\r\n",
    "from selenium.common.exceptions import TimeoutException\r\n",
    "import pandas as pd\r\n",
    "import requests\r\n",
    "from selenium.webdriver.common.desired_capabilities import DesiredCapabilities\r\n",
    "from selenium.webdriver.common.action_chains import ActionChains\r\n",
    "from selenium.common.exceptions import NoSuchElementException\r\n",
    "from selenium.webdriver.support.ui import WebDriverWait\r\n",
    "from selenium.webdriver.support.ui import Select\r\n",
    "import numpy as np\r\n",
    "import time\r\n",
    "from bs4 import BeautifulSoup"
   ],
   "outputs": [],
   "metadata": {}
  },
  {
   "cell_type": "code",
   "execution_count": 2,
   "source": [
    "def prep_get_review(driver):    \r\n",
    "\r\n",
    "    # Scrolling through reviews\r\n",
    "\r\n",
    "    # pane = driver.find_element_by_id(\"pane\")\r\n",
    "\r\n",
    "    WebDriverWait(driver, 10).until(EC.element_to_be_clickable((By.CSS_SELECTOR, \"div[class^='section-layout section-scrollbox cYB2Ge-oHo7ed cYB2Ge-ti6hGc']\")))\r\n",
    "    # scrollable_div = driver.find_element_by_css_selector('div.section-layout.section-scrollbox cYB2Ge-oHo7ed cYB2Ge-ti6hGc')\r\n",
    "    scrollable_div = driver.find_element_by_css_selector(\"div[class^='section-layout section-scrollbox cYB2Ge-oHo7ed cYB2Ge-ti6hGc']\")\r\n",
    "\r\n",
    "    max_time = time.time() + 60 * 3     # 3 min\r\n",
    "    # max_time = time.time() + 60 * 0.1     # 6s  \r\n",
    "     \r\n",
    "    while time.time() < max_time:\r\n",
    "        \r\n",
    "        driver.execute_script(\"arguments[0].scrollTop = arguments[0].scrollHeight\", scrollable_div)\r\n",
    "\r\n",
    "        try: \r\n",
    "            for click_more in driver.find_elements_by_class_name(\"ODSEW-KoToPc-ShBeI\"):\r\n",
    "                click_more.click()\r\n",
    "        \r\n",
    "        except:\r\n",
    "            pass\r\n",
    "    \r\n",
    "    return \"Ready to go!\"  \r\n",
    "\r\n"
   ],
   "outputs": [],
   "metadata": {}
  },
  {
   "cell_type": "code",
   "execution_count": 19,
   "source": [
    "def get_review(driver):  \r\n",
    "    reviews = BeautifulSoup(driver.page_source, 'html.parser')\r\n",
    "    rlist = reviews.find_all('div', class_='ODSEW-ShBeI-content')\r\n",
    "\r\n",
    "    review_stars_list = []\r\n",
    "    review_text_list = []\r\n",
    "    for r in rlist:\r\n",
    "\r\n",
    "        review_stars = r.find('span', class_='ODSEW-ShBeI-H1e3jb')\r\n",
    "        review_stars_list.append(review_stars['aria-label'][1])\r\n",
    "\r\n",
    "        try:\r\n",
    "            review_text = r.find('span', class_='ODSEW-ShBeI-text').text\r\n",
    "            review_text_list.append(review_text)\r\n",
    "            \r\n",
    "        except:\r\n",
    "            review_text_list.append(None)\r\n",
    "        \r\n",
    "    return (review_stars_list, review_text_list)"
   ],
   "outputs": [],
   "metadata": {}
  },
  {
   "cell_type": "code",
   "execution_count": 4,
   "source": [
    "def get_all_reviews(driver):\r\n",
    "      \r\n",
    "    review_details = {}\r\n",
    "    \r\n",
    "    prep_get_review(driver)\r\n",
    "\r\n",
    "    review_stars_list, review_text_list = get_review(driver)   \r\n",
    "\r\n",
    "    review_details[\"review stars\"] = review_stars_list\r\n",
    "    review_details[\"review text\"] = review_text_list\r\n",
    "\r\n",
    "    return review_details"
   ],
   "outputs": [],
   "metadata": {}
  },
  {
   "cell_type": "code",
   "execution_count": 5,
   "source": [
    "def convert_to_df(review_details, attraction_name):\r\n",
    "    all_data = [] \r\n",
    "\r\n",
    "    for i in range(len(review_details[\"review stars\"])):\r\n",
    "        review = [\r\n",
    "            attraction_name, review_details[\"review stars\"][i], review_details[\"review text\"][i]\r\n",
    "            ] \r\n",
    "        all_data.append(review)\r\n",
    "            \r\n",
    "    df = pd.DataFrame (data = all_data, columns = [\"attraction_name\", \"review stars\", \"review text\"]) \r\n",
    "    df.drop_duplicates(keep='last', inplace=True)\r\n",
    "    # print(df.head())\r\n",
    "    \r\n",
    "    return df"
   ],
   "outputs": [],
   "metadata": {}
  },
  {
   "cell_type": "markdown",
   "source": [
    "# Getting Reviews"
   ],
   "metadata": {}
  },
  {
   "cell_type": "markdown",
   "source": [
    "### Create csv file to store data (only for first time)"
   ],
   "metadata": {}
  },
  {
   "cell_type": "code",
   "execution_count": 6,
   "source": [
    "reviews_df = pd.DataFrame (columns = [\"attraction_name\", \"review stars\", \"review text\"]) \r\n",
    "reviews_df.to_csv(\"./Data/Google Review Raw Data/Reviews.csv\", index=False)"
   ],
   "outputs": [],
   "metadata": {}
  },
  {
   "cell_type": "markdown",
   "source": [
    "### Adding data to csv"
   ],
   "metadata": {}
  },
  {
   "cell_type": "code",
   "execution_count": 7,
   "source": [
    "attractions = pd.read_csv('./Data/Google Review Raw Data/Attractions_url (final).csv')\r\n",
    "attractions.head()"
   ],
   "outputs": [
    {
     "output_type": "execute_result",
     "data": {
      "text/plain": [
       "                                             name  \\\n",
       "0            Chinatown Heritage Centre, Singapore   \n",
       "1               Thian Hock Keng Temple, Singapore   \n",
       "2  Eurasian Heritage Centre: Singapore Attraction   \n",
       "3                                 Pinnacle@Duxton   \n",
       "4                           Hajjah Fatimah Mosque   \n",
       "\n",
       "                                             address          plus_code  \\\n",
       "0                     48 Pagoda St, Singapore 059207  7RMV+9Q Singapore   \n",
       "1                158 Telok Ayer St, Singapore 068613  7RJX+C3 Singapore   \n",
       "2  139 Ceylon Rd, The Eurasian Association, Singa...  8V6X+2Q Singapore   \n",
       "3                 1G Cantonment Rd, Singapore 085301  7RGR+QF Singapore   \n",
       "4                    4001 Beach Rd, Singapore 199584  8V37+54 Singapore   \n",
       "\n",
       "              category  overall_rating  \\\n",
       "0  Ethnographic museum             4.4   \n",
       "1        Taoist temple             4.4   \n",
       "2      Heritage museum             4.7   \n",
       "3      Housing complex             4.4   \n",
       "4               Mosque             4.7   \n",
       "\n",
       "                                                 url  \\\n",
       "0  https://www.google.com.sg/maps/place/Chinatown...   \n",
       "1  https://www.google.com.sg/maps/place/Thian+Hoc...   \n",
       "2  https://www.google.com.sg/maps/place/Eurasian+...   \n",
       "3  https://www.google.com.sg/maps/place/Pinnacle%...   \n",
       "4  https://www.google.com.sg/maps/place/Hajjah+Fa...   \n",
       "\n",
       "                                            keywords  \n",
       "0  ['souvenirs', 'immigrants', 'audio', 'life', '...  \n",
       "1  ['history', 'chinese', 'peaceful', 'sea', 'arc...  \n",
       "2                                                 []  \n",
       "3  ['floor', 'pay', 'garden', 'fee', 'public', 'r...  \n",
       "4  ['peaceful', 'beautiful', 'prayers', 'muslim',...  "
      ],
      "text/html": [
       "<div>\n",
       "<style scoped>\n",
       "    .dataframe tbody tr th:only-of-type {\n",
       "        vertical-align: middle;\n",
       "    }\n",
       "\n",
       "    .dataframe tbody tr th {\n",
       "        vertical-align: top;\n",
       "    }\n",
       "\n",
       "    .dataframe thead th {\n",
       "        text-align: right;\n",
       "    }\n",
       "</style>\n",
       "<table border=\"1\" class=\"dataframe\">\n",
       "  <thead>\n",
       "    <tr style=\"text-align: right;\">\n",
       "      <th></th>\n",
       "      <th>name</th>\n",
       "      <th>address</th>\n",
       "      <th>plus_code</th>\n",
       "      <th>category</th>\n",
       "      <th>overall_rating</th>\n",
       "      <th>url</th>\n",
       "      <th>keywords</th>\n",
       "    </tr>\n",
       "  </thead>\n",
       "  <tbody>\n",
       "    <tr>\n",
       "      <th>0</th>\n",
       "      <td>Chinatown Heritage Centre, Singapore</td>\n",
       "      <td>48 Pagoda St, Singapore 059207</td>\n",
       "      <td>7RMV+9Q Singapore</td>\n",
       "      <td>Ethnographic museum</td>\n",
       "      <td>4.4</td>\n",
       "      <td>https://www.google.com.sg/maps/place/Chinatown...</td>\n",
       "      <td>['souvenirs', 'immigrants', 'audio', 'life', '...</td>\n",
       "    </tr>\n",
       "    <tr>\n",
       "      <th>1</th>\n",
       "      <td>Thian Hock Keng Temple, Singapore</td>\n",
       "      <td>158 Telok Ayer St, Singapore 068613</td>\n",
       "      <td>7RJX+C3 Singapore</td>\n",
       "      <td>Taoist temple</td>\n",
       "      <td>4.4</td>\n",
       "      <td>https://www.google.com.sg/maps/place/Thian+Hoc...</td>\n",
       "      <td>['history', 'chinese', 'peaceful', 'sea', 'arc...</td>\n",
       "    </tr>\n",
       "    <tr>\n",
       "      <th>2</th>\n",
       "      <td>Eurasian Heritage Centre: Singapore Attraction</td>\n",
       "      <td>139 Ceylon Rd, The Eurasian Association, Singa...</td>\n",
       "      <td>8V6X+2Q Singapore</td>\n",
       "      <td>Heritage museum</td>\n",
       "      <td>4.7</td>\n",
       "      <td>https://www.google.com.sg/maps/place/Eurasian+...</td>\n",
       "      <td>[]</td>\n",
       "    </tr>\n",
       "    <tr>\n",
       "      <th>3</th>\n",
       "      <td>Pinnacle@Duxton</td>\n",
       "      <td>1G Cantonment Rd, Singapore 085301</td>\n",
       "      <td>7RGR+QF Singapore</td>\n",
       "      <td>Housing complex</td>\n",
       "      <td>4.4</td>\n",
       "      <td>https://www.google.com.sg/maps/place/Pinnacle%...</td>\n",
       "      <td>['floor', 'pay', 'garden', 'fee', 'public', 'r...</td>\n",
       "    </tr>\n",
       "    <tr>\n",
       "      <th>4</th>\n",
       "      <td>Hajjah Fatimah Mosque</td>\n",
       "      <td>4001 Beach Rd, Singapore 199584</td>\n",
       "      <td>8V37+54 Singapore</td>\n",
       "      <td>Mosque</td>\n",
       "      <td>4.7</td>\n",
       "      <td>https://www.google.com.sg/maps/place/Hajjah+Fa...</td>\n",
       "      <td>['peaceful', 'beautiful', 'prayers', 'muslim',...</td>\n",
       "    </tr>\n",
       "  </tbody>\n",
       "</table>\n",
       "</div>"
      ]
     },
     "metadata": {},
     "execution_count": 7
    }
   ],
   "metadata": {}
  },
  {
   "cell_type": "code",
   "execution_count": 30,
   "source": [
    "start = 36\r\n",
    "end = 50\r\n",
    "att_scrape = {}\r\n",
    "for i in range(start, end):\r\n",
    "    name = attractions.iloc[i]['name']\r\n",
    "    url = attractions.iloc[i]['url']\r\n",
    "    att_scrape[name] = url\r\n",
    "\r\n",
    "att_scrape"
   ],
   "outputs": [
    {
     "output_type": "execute_result",
     "data": {
      "text/plain": [
       "{'Chinese Heritage Centre, Singapore': 'https://www.google.com.sg/maps/place/Chinese+Heritage+Centre/@1.3438301,103.6818908,17z/data=!4m5!3m4!1s0x31da0f9fb5541ac3:0xa6b9a97b5786b73d!8m2!3d1.3438247!4d103.6840795?hl=en',\n",
       " 'Kampong Glam & Malay Culture in Singapore': 'https://www.google.com.sg/maps/place/Malay+Heritage+Centre/@1.3028047,103.8577378,17z/data=!4m5!3m4!1s0x31da19b13a82ec53:0x14144f336cc91ff6!8m2!3d1.3027993!4d103.8599265?hl=en',\n",
       " 'The Substation, Singapore Contemporary Art Centre': 'https://www.google.com.sg/maps/place/The+Substation/@1.2944242,103.847094,17z/data=!3m1!5s0x31da19a3e9ac9e05:0x7d1a14e77742650e!4m5!3m4!1s0x31da19a3e9b8e8fb:0x53a461fdad4e38df!8m2!3d1.2944188!4d103.8492827?hl=en',\n",
       " 'Red Dot Design Museum, Singapore': 'https://www.google.com.sg/maps/place/Red+Dot+Design+Museum/@1.2801617,103.8541164,17z/data=!3m1!5s0x31da190fea3bb04f:0xa6e4b1a6bfe318c8!4m5!3m4!1s0x31da1912c68752ab:0xfafa51da63b1f3ed!8m2!3d1.2801563!4d103.8563051?hl=en',\n",
       " 'Esplanade Theatres on the Bay': 'https://www.google.com.sg/maps/place/Esplanade+-+Theatres+on+the+Bay,+Singapore/@1.2897988,103.8536279,17z/data=!4m5!3m4!1s0x31da19a7ec1ae549:0xb955a5f90a365835!8m2!3d1.2897934!4d103.8558166?hl=en',\n",
       " 'National Design Centre, Singapore': 'https://www.google.com.sg/maps/place/National+Design+Centre/@1.2986745,103.8511748,17z/data=!4m5!3m4!1s0x31da19bad62a795f:0xebd6bcfaf5795f03!8m2!3d1.2986691!4d103.8533635?hl=en',\n",
       " 'Victoria Theatre Singapore': 'https://www.google.com.sg/maps/place/Victoria+Theatre+and+Concert+Hall/@1.2882403,103.8493493,17z/data=!3m1!5s0x31da1909eed68485:0xb225083ef4e6a25e!4m5!3m4!1s0x31da1909ef4fc75d:0x38acdb93d7eba556!8m2!3d1.2882349!4d103.851538?hl=en',\n",
       " 'NUS University Museum, Singapore': 'https://www.google.com.sg/maps/place/NUS+Museum/@1.3013002,103.7705275,17z/data=!4m5!3m4!1s0x31da1afa50000073:0x582a621ea6f4ff8a!8m2!3d1.3012948!4d103.7727162?hl=en',\n",
       " 'Sun Yat Sen Memorial Hall': 'https://www.google.com.sg/maps/place/Sun+Yat+Sen+Nanyang+Memorial+Hall/@1.328079,103.844928,17z/data=!4m5!3m4!1s0x31da17604c398563:0x8a28aa2f97068b41!8m2!3d1.3280736!4d103.8471167?hl=en',\n",
       " 'Asian Civilisations Museum & Singapore Museum': 'https://www.google.com.sg/maps/place/Asian+Civilisations+Museum/@1.2875023,103.8491974,17z/data=!4m5!3m4!1s0x31da190999a193a1:0x20a06ca9bcdf127a!8m2!3d1.2874969!4d103.8513861?hl=en',\n",
       " 'Singapore Botanic Gardens': 'https://www.google.com.sg/maps/place/Singapore+Botanic+Gardens/@1.3138451,103.8137249,17z/data=!4m5!3m4!1s0x31da1a1c7ddb60bd:0xeadf14903ad3d980!8m2!3d1.3138397!4d103.8159136?hl=en',\n",
       " 'Singapore Zoo: Attractions & Things to Do': 'https://www.google.com.sg/maps/place/Singapore+Zoo/@1.4043539,103.7908343,17z/data=!3m1!4b1!4m5!3m4!1s0x31da13d9102adcaf:0xb414fac8a43b1b91!8m2!3d1.4043485!4d103.793023?hl=en',\n",
       " 'River Safari Singapore': 'https://www.google.com.sg/maps/place/River+Safari/@1.4026222,103.7896218,17z/data=!4m5!3m4!1s0x31da13d8ffd797c5:0x75203bebf10a7c92!8m2!3d1.403186!4d103.7906876?hl=en'}"
      ]
     },
     "metadata": {},
     "execution_count": 30
    }
   ],
   "metadata": {}
  },
  {
   "cell_type": "code",
   "execution_count": 29,
   "source": [
    "driver = webdriver.Chrome(executable_path = \"C:/Users/Gi Han/OneDrive - Singapore Management University/Documents/Y3T1/chromedriver_win32/chromedriver.exe\")\r\n",
    "\r\n",
    "fail_attr = []\r\n",
    "\r\n",
    "for name, url in att_scrape.items():\r\n",
    "\r\n",
    "    try:\r\n",
    "               \r\n",
    "        driver.get(url)\r\n",
    "\r\n",
    "        WebDriverWait(driver, 20).until(EC.element_to_be_clickable((By.CLASS_NAME, \"widget-pane-link\")))\r\n",
    "\r\n",
    "        driver.find_element_by_class_name(\"widget-pane-link\").click() # click on review page\r\n",
    "\r\n",
    "        review_details = get_all_reviews(driver)\r\n",
    "\r\n",
    "        # creating DataFrame\r\n",
    "        df = convert_to_df(review_details, name)\r\n",
    "\r\n",
    "        # append df to existing csv\r\n",
    "        df.to_csv('./Data/Google Review Raw Data/Reviews.csv', mode='a', index=False, header=False)\r\n",
    "        \r\n",
    "        print(name, ' done!')\r\n",
    "\r\n",
    "        time.sleep(2)\r\n",
    "\r\n",
    "\r\n",
    "    except:\r\n",
    "        fail_attr.append(name)\r\n",
    "        print('*' * 40)\r\n",
    "        print('FAILED: ', name)\r\n",
    "        print('*' * 40)"
   ],
   "outputs": [
    {
     "output_type": "stream",
     "name": "stdout",
     "text": [
      "Maghain Aboth Synagogue  done!\n",
      "Sultan Mosque (Masjid Sultan) Singapore  done!\n",
      "Sri Mariamman Temple: Hindu Temple in Singapore  done!\n",
      "Armenian Church in Singapore  done!\n",
      "CHIJMES Singapore  done!\n",
      "St Andrew’s Cathedral- Singapore Architecture Landmark  done!\n",
      "ArtScience Museum Singapore  done!\n",
      "Old Ford Factory Singapore Museum  done!\n",
      "Singapore City Gallery  done!\n",
      "Changi Museum Singapore  done!\n"
     ]
    }
   ],
   "metadata": {}
  },
  {
   "cell_type": "code",
   "execution_count": 27,
   "source": [
    "fail_attr"
   ],
   "outputs": [
    {
     "output_type": "execute_result",
     "data": {
      "text/plain": [
       "['Raffles Singapore']"
      ]
     },
     "metadata": {},
     "execution_count": 27
    }
   ],
   "metadata": {}
  }
 ],
 "metadata": {
  "orig_nbformat": 4,
  "language_info": {
   "name": "python",
   "version": "3.9.2",
   "mimetype": "text/x-python",
   "codemirror_mode": {
    "name": "ipython",
    "version": 3
   },
   "pygments_lexer": "ipython3",
   "nbconvert_exporter": "python",
   "file_extension": ".py"
  },
  "kernelspec": {
   "name": "python3",
   "display_name": "Python 3.9.2 64-bit"
  },
  "interpreter": {
   "hash": "8a21130d755c6d7ceda9a1034861976acab76bd35cac49d808d8929c4822560e"
  }
 },
 "nbformat": 4,
 "nbformat_minor": 2
}