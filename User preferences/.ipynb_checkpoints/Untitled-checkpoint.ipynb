{
 "cells": [
  {
   "cell_type": "code",
   "execution_count": 1,
   "id": "d53a17fc",
   "metadata": {},
   "outputs": [
    {
     "name": "stdout",
     "output_type": "stream",
     "text": [
      "(97529, 17)\n"
     ]
    }
   ],
   "source": [
    "import pandas as pd\n",
    "import re \n",
    "\n",
    "reviews = pd.read_csv('../Data/Cleaned Data/final_dataset_cleaned.csv')\n",
    "\n",
    "reviews = reviews.dropna()\n",
    "\n",
    "\n",
    "print(reviews.shape)"
   ]
  },
  {
   "cell_type": "code",
   "execution_count": 2,
   "id": "02c58db0",
   "metadata": {},
   "outputs": [],
   "source": [
    "import numpy as np # linear algebra\n",
    "import pandas as pd # data processing, CSV file I/O (e.g. pd.read_csv)\n",
    "from sklearn.cluster import KMeans \n",
    "from sklearn.feature_extraction.text import TfidfVectorizer\n",
    "from sklearn.decomposition import PCA\n",
    "from sklearn.preprocessing import normalize\n",
    "from sklearn.metrics import pairwise_distances\n",
    "\n",
    "import nltk\n",
    "import string\n",
    "\n",
    "import matplotlib.pyplot as plt\n",
    "%matplotlib inline\n",
    "plt.style.use('fivethirtyeight')\n",
    "\n",
    "\n",
    "# email module has some useful functions\n",
    "import os, sys, email,re\n",
    "\n"
   ]
  },
  {
   "cell_type": "code",
   "execution_count": 3,
   "id": "057f7087",
   "metadata": {},
   "outputs": [],
   "source": [
    "def generate_wordclouds(X, in_X_tfidf, k, in_word_positions):\n",
    "\n",
    "    # Clustering\n",
    "    in_model = KMeans(n_clusters=k, random_state=42, n_jobs=-1)\n",
    "    in_y_pred = in_model.fit_predict(X)\n",
    "    in_cluster_ids = set(in_y_pred)\n",
    "    silhouette_avg = silhouette_score(X, in_y_pred)\n",
    "    print(\"For n_clusters =\", k, \"The average silhouette_score is :\", silhouette_avg)\n",
    "\n",
    "    # Number of words with highest tfidf score to display\n",
    "    top_count = 100\n",
    "\n",
    "    for in_cluster_id in in_cluster_ids:\n",
    "        # compute the total tfidf for each term in the cluster\n",
    "        in_tfidf = in_X_tfidf[in_y_pred == in_cluster_id]\n",
    "        # numpy.matrix\n",
    "        tfidf_sum = np.sum(in_tfidf, axis=0)\n",
    "        # numpy.array of shape (1, X.shape[1])\n",
    "        tfidf_sum = np.asarray(tfidf_sum).reshape(-1)\n",
    "        top_indices = tfidf_sum.argsort()[-top_count:]\n",
    "        term_weights = {in_word_positions[in_idx]: tfidf_sum[in_idx] for in_idx in top_indices}\n",
    "        wc = WordCloud(width=1200, height=800, background_color=\"white\")\n",
    "        wordcloud = wc.generate_from_frequencies(term_weights)\n",
    "        fig, ax = plt.subplots(figsize=(10, 6), dpi=100)\n",
    "        ax.imshow(wordcloud, interpolation='bilinear')\n",
    "        ax.axis(\"off\")\n",
    "        fig.suptitle(f\"Cluster {in_cluster_id}\")\n",
    "        plt.show()\n",
    "        text = \"wordcloud\"\n",
    "        ext = \".jpg\"\n",
    "        filename = text + k + ext \n",
    "        wordcloud.to_file(filename)\n",
    "    return in_cluster_ids\n",
    "\n",
    "\n",
    "def custom_import_stopwords(filename):\n",
    "    in_stopword_list = []\n",
    "    in_flag = 0\n",
    "    in_word_cnt = 0\n",
    "\n",
    "    with open(filename, encoding=\"utf8\") as f:\n",
    "        for row in csv.reader(f):\n",
    "            if in_flag == 0:\n",
    "                in_flag = 1\n",
    "            else:\n",
    "                in_stopword_list.append(row[0])\n",
    "                in_word_cnt += 1\n",
    "\n",
    "    print(f\"{in_word_cnt} stopwords imported\")\n",
    "    return in_stopword_list"
   ]
  },
  {
   "cell_type": "code",
   "execution_count": 4,
   "id": "3d7789ac",
   "metadata": {},
   "outputs": [],
   "source": [
    "from nltk.tokenize import word_tokenize\n",
    "from nltk.stem.wordnet import WordNetLemmatizer\n",
    "class LemmaTokenizer(object):\n",
    "\n",
    "    def __init__(self):\n",
    "        self.lemmatizer = WordNetLemmatizer()\n",
    "\n",
    "    def __call__(self, document):\n",
    "        lemmas = []\n",
    "        \n",
    "        # Pre-proccessing of one document at the time\n",
    "        \n",
    "        # Removing puntuation\n",
    "        translator_1 = str.maketrans(string.punctuation, ' ' * len(string.punctuation))\n",
    "        document = document.translate(translator_1)\n",
    "\n",
    "        # Removing numbers\n",
    "        document = re.sub(r'\\d+', ' ', document)\n",
    "\n",
    "        # Removing special characters\n",
    "        document = re.sub(r\"[^a-zA-Z0-9]+\", ' ', document)\n",
    "\n",
    "        # The document is a string up to now, after word_tokenize(document) we'll work on every word one at the time\n",
    "        for token in word_tokenize(document):\n",
    "            \n",
    "            # Removing spaces\n",
    "            token = token.strip()\n",
    "            \n",
    "            # Lemmatizing\n",
    "            token = self.lemmatizer.lemmatize(token)\n",
    "\n",
    "            # Removing stopwords\n",
    "            if len(token) > 2:\n",
    "                lemmas.append(token)\n",
    "        return lemmas"
   ]
  },
  {
   "cell_type": "code",
   "execution_count": 5,
   "id": "ea964a8b",
   "metadata": {},
   "outputs": [
    {
     "name": "stdout",
     "output_type": "stream",
     "text": [
      "34888\n"
     ]
    }
   ],
   "source": [
    "reviews['review_cleaned'].str.lower().str.split()\n",
    "\n",
    "results = set()\n",
    "reviews['review_cleaned'].str.lower().str.split().apply(results.update)\n",
    "print(len(results))\n",
    "\n",
    "#34k unique words"
   ]
  },
  {
   "cell_type": "code",
   "execution_count": 6,
   "id": "b775f353",
   "metadata": {},
   "outputs": [
    {
     "name": "stdout",
     "output_type": "stream",
     "text": [
      "Shape of the array: (97529, 31517)\n",
      "Percentage of zeros: 99.94434803699905\n",
      "Percentage filled: 0.05565196300095465\n"
     ]
    }
   ],
   "source": [
    "\n",
    "from sklearn.feature_extraction.text import TfidfVectorizer\n",
    "data = reviews['review_cleaned']\n",
    "\n",
    "# we will use tfidf for 20000 features first\n",
    "\n",
    "tf_idf_vectorizor = TfidfVectorizer(stop_words = 'english', tokenizer=LemmaTokenizer())\n",
    "\n",
    "tf_idf = tf_idf_vectorizor.fit_transform(data)\n",
    "tf_idf_norm = normalize(tf_idf)\n",
    "tf_idf_array = tf_idf_norm.toarray()\n",
    "\n",
    "\n",
    "print(\"Shape of the array:\",tf_idf_array.shape)\n",
    "percentzero = np.count_nonzero(tf_idf_array==0)/(tf_idf_array.shape[0]*tf_idf_array.shape[1])*100\n",
    "print(\"Percentage of zeros:\",\n",
    "      percentzero)\n",
    "print(\"Percentage filled:\", 100 - percentzero )"
   ]
  },
  {
   "cell_type": "markdown",
   "id": "a11b692c",
   "metadata": {},
   "source": [
    "# for explained variance i will try to retain it at 60% and 80% and look at performance of the clustering models"
   ]
  },
  {
   "cell_type": "code",
   "execution_count": null,
   "id": "23f9c93d",
   "metadata": {},
   "outputs": [],
   "source": [
    "# # this is for 60% explained variance SVD \n",
    "# from sklearn.decomposition import TruncatedSVD\n",
    "\n",
    "# svd = TruncatedSVD(n_components=1000, random_state=42)\n",
    "# X_svd = svd.fit_transform(tf_idf)\n",
    "# print(f\"Total variance explained: {np.sum(svd.explained_variance_ratio_):.2f}\")"
   ]
  },
  {
   "cell_type": "code",
   "execution_count": 16,
   "id": "ecff1aaa",
   "metadata": {},
   "outputs": [
    {
     "name": "stdout",
     "output_type": "stream",
     "text": [
      "Total variance explained: 0.77\n"
     ]
    }
   ],
   "source": [
    "# this is for 80% explained variance SVD \n",
    "from sklearn.decomposition import TruncatedSVD\n",
    "\n",
    "svd = TruncatedSVD(n_components=2000, random_state=42)\n",
    "X_svd = svd.fit_transform(tf_idf)\n",
    "print(f\"Total variance explained: {np.sum(svd.explained_variance_ratio_):.2f}\")"
   ]
  },
  {
   "cell_type": "code",
   "execution_count": null,
   "id": "ae7e364f",
   "metadata": {},
   "outputs": [],
   "source": [
    "# # this is for 60% explained variance PCA \n",
    "\n",
    "# NUM_COMPONENTS = 1000\n",
    "\n",
    "# sklearn_pca = PCA(NUM_COMPONENTS)\n",
    "# Y_sklearn = sklearn_pca.fit_transform(tf_idf_array)\n",
    "\n",
    "# variance_explained = np.cumsum(sklearn_pca.explained_variance_)\n",
    "\n",
    "# print(len(Y_sklearn[0]))\n",
    "\n",
    "# fig, ax = plt.subplots(figsize=(15, 8))\n",
    "# plt.plot(range(NUM_COMPONENTS),variance_explained, color='r')\n",
    "# ax.grid(True)\n",
    "# plt.xlabel(\"Number of components\")\n",
    "# plt.ylabel(\"Cumulative explained variance\")"
   ]
  },
  {
   "cell_type": "code",
   "execution_count": null,
   "id": "1caf8870",
   "metadata": {},
   "outputs": [],
   "source": [
    "# # this is for 80% explained variance PCA \n",
    "\n",
    "# NUM_COMPONENTS = 2000\n",
    "\n",
    "# sklearn_pca = PCA(NUM_COMPONENTS)\n",
    "# Y_sklearn = sklearn_pca.fit_transform(tf_idf_array)\n",
    "\n",
    "# variance_explained = np.cumsum(sklearn_pca.explained_variance_)\n",
    "\n",
    "# print(len(Y_sklearn[0]))\n",
    "\n",
    "# fig, ax = plt.subplots(figsize=(15, 8))\n",
    "# plt.plot(range(NUM_COMPONENTS),variance_explained, color='r')\n",
    "# ax.grid(True)\n",
    "# plt.xlabel(\"Number of components\")\n",
    "# plt.ylabel(\"Cumulative explained variance\")"
   ]
  },
  {
   "cell_type": "code",
   "execution_count": 18,
   "id": "95eaef9f",
   "metadata": {},
   "outputs": [
    {
     "data": {
      "image/png": "[encoded data removed]",
      "text/plain": [
       "<Figure size 432x288 with 1 Axes>"
      ]
     },
     "metadata": {},
     "output_type": "display_data"
    }
   ],
   "source": [
    "\n",
    "number_clusters = range(1, 10)\n",
    "\n",
    "kmeans = [KMeans(n_clusters=i, max_iter = 100) for i in number_clusters]\n",
    "kmeans\n",
    "\n",
    "score = [kmeans[i].fit(X_svd).score(X_svd) for i in range(len(kmeans))]\n",
    "score\n",
    "\n",
    "plt.plot(number_clusters, score)\n",
    "plt.xlabel('Number of Clusters')\n",
    "plt.ylabel('Score')\n",
    "plt.title('Elbow Method')\n",
    "plt.show()"
   ]
  },
  {
   "cell_type": "code",
   "execution_count": null,
   "id": "f08088fb",
   "metadata": {},
   "outputs": [],
   "source": []
  },
  {
   "cell_type": "code",
   "execution_count": 20,
   "id": "53726f93",
   "metadata": {},
   "outputs": [
    {
     "ename": "NameError",
     "evalue": "name 'X_tfidf' is not defined",
     "output_type": "error",
     "traceback": [
      "\u001b[1;31m---------------------------------------------------------------------------\u001b[0m",
      "\u001b[1;31mNameError\u001b[0m                                 Traceback (most recent call last)",
      "\u001b[1;32m<ipython-input-20-f567c59080d3>\u001b[0m in \u001b[0;36m<module>\u001b[1;34m\u001b[0m\n\u001b[0;32m      1\u001b[0m \u001b[0mword_positions\u001b[0m \u001b[1;33m=\u001b[0m \u001b[1;33m{\u001b[0m\u001b[0mv\u001b[0m\u001b[1;33m:\u001b[0m \u001b[0mk\u001b[0m \u001b[1;32mfor\u001b[0m \u001b[0mk\u001b[0m\u001b[1;33m,\u001b[0m \u001b[0mv\u001b[0m \u001b[1;32min\u001b[0m \u001b[0mtf_idf_vectorizor\u001b[0m\u001b[1;33m.\u001b[0m\u001b[0mvocabulary_\u001b[0m\u001b[1;33m.\u001b[0m\u001b[0mitems\u001b[0m\u001b[1;33m(\u001b[0m\u001b[1;33m)\u001b[0m\u001b[1;33m}\u001b[0m\u001b[1;33m\u001b[0m\u001b[1;33m\u001b[0m\u001b[0m\n\u001b[0;32m      2\u001b[0m \u001b[1;31m# cluster_ids = generate_wordclouds(X_svd, tf_idf, 2, word_positions) # The average silhouette_score is :  0.008336525997926818\u001b[0m\u001b[1;33m\u001b[0m\u001b[1;33m\u001b[0m\u001b[1;33m\u001b[0m\u001b[0m\n\u001b[1;32m----> 3\u001b[1;33m \u001b[0mcluster_ids\u001b[0m \u001b[1;33m=\u001b[0m \u001b[0mgenerate_wordclouds\u001b[0m\u001b[1;33m(\u001b[0m\u001b[0mX_svd\u001b[0m\u001b[1;33m,\u001b[0m \u001b[0mX_tfidf\u001b[0m\u001b[1;33m,\u001b[0m \u001b[1;36m3\u001b[0m\u001b[1;33m,\u001b[0m \u001b[0mword_positions\u001b[0m\u001b[1;33m)\u001b[0m \u001b[1;31m# The average silhouette_score is : 0.004229255251152468\u001b[0m\u001b[1;33m\u001b[0m\u001b[1;33m\u001b[0m\u001b[0m\n\u001b[0m\u001b[0;32m      4\u001b[0m \u001b[1;31m# cluster_ids = generate_wordclouds(X_svd, X_tfidf, 4, word_positions) # The average silhouette_score is : 0.004229255251152468\u001b[0m\u001b[1;33m\u001b[0m\u001b[1;33m\u001b[0m\u001b[1;33m\u001b[0m\u001b[0m\n\u001b[0;32m      5\u001b[0m \u001b[1;31m# cluster_ids = generate_wordclouds(X_svd, X_tfidf, 5, word_positions) # The average silhouette_score is : 0.004229255251152468\u001b[0m\u001b[1;33m\u001b[0m\u001b[1;33m\u001b[0m\u001b[1;33m\u001b[0m\u001b[0m\n",
      "\u001b[1;31mNameError\u001b[0m: name 'X_tfidf' is not defined"
     ]
    }
   ],
   "source": [
    "word_positions = {v: k for k, v in tf_idf_vectorizor.vocabulary_.items()}\n",
    "# cluster_ids = generate_wordclouds(X_svd, tf_idf, 2, word_positions) # The average silhouette_score is :  0.008336525997926818\n",
    "cluster_ids = generate_wordclouds(X_svd, tf_idf, 3, word_positions) # The average silhouette_score is : 0.004229255251152468\n",
    "# cluster_ids = generate_wordclouds(X_svd, tf_idf, 4, word_positions) # The average silhouette_score is : 0.004229255251152468\n",
    "# cluster_ids = generate_wordclouds(X_svd, tf_idf, 5, word_positions) # The average silhouette_score is : 0.004229255251152468\n",
    "# cluster_ids = generate_wordclouds(X_svd, tf_idf, 6, word_positions) # The average silhouette_score is : 0.004229255251152468"
   ]
  },
  {
   "cell_type": "code",
   "execution_count": null,
   "id": "f5619c78",
   "metadata": {},
   "outputs": [],
   "source": [
    "# model = KMeans(n_clusters=4, random_state=42, n_jobs=-1)\n",
    "# y_pred = model.fit_predict(X_svd)\n",
    "# cluster_ids = set(y_pred)\n",
    "\n",
    "# min_support = 0.3\n",
    "# dist_words = sorted(v for k, v in word_positions.items()) # distinct words in the vocabulary\n",
    "# for cluster_id in cluster_ids:\n",
    "#     print(f\"FP-Growth results on Cluster {cluster_id} with min support {min_support}\")\n",
    "#     tfidf = X_tfidf[y_pred == cluster_id]\n",
    "#     # encoded as binary \"presence/absence\" representation as required by mlxtend\n",
    "#     tfidf[tfidf > 0] = 1\n",
    "#     # df is a pandas sparse dataframe\n",
    "#     df = pd.DataFrame.sparse.from_spmatrix(tfidf, columns=dist_words)\n",
    "#     fset = fpgrowth(df, min_support=min_support, use_colnames=True).sort_values(by='support', ascending=False)\n",
    "#     print(fset, '\\n')"
   ]
  },
  {
   "cell_type": "code",
   "execution_count": null,
   "id": "108a8ddb",
   "metadata": {},
   "outputs": [],
   "source": []
  },
  {
   "cell_type": "code",
   "execution_count": null,
   "id": "73a0b7a7",
   "metadata": {},
   "outputs": [],
   "source": []
  },
  {
   "cell_type": "code",
   "execution_count": null,
   "id": "0cab47cc",
   "metadata": {},
   "outputs": [],
   "source": []
  },
  {
   "cell_type": "code",
   "execution_count": null,
   "id": "2212379f",
   "metadata": {},
   "outputs": [],
   "source": []
  },
  {
   "cell_type": "code",
   "execution_count": null,
   "id": "f6994b65",
   "metadata": {},
   "outputs": [],
   "source": []
  },
  {
   "cell_type": "code",
   "execution_count": null,
   "id": "f9a17830",
   "metadata": {},
   "outputs": [],
   "source": []
  },
  {
   "cell_type": "code",
   "execution_count": null,
   "id": "c43edbac",
   "metadata": {},
   "outputs": [],
   "source": []
  },
  {
   "cell_type": "code",
   "execution_count": null,
   "id": "94798571",
   "metadata": {},
   "outputs": [],
   "source": []
  },
  {
   "cell_type": "code",
   "execution_count": null,
   "id": "2aad8658",
   "metadata": {},
   "outputs": [],
   "source": []
  },
  {
   "cell_type": "code",
   "execution_count": 67,
   "id": "31563431",
   "metadata": {},
   "outputs": [
    {
     "name": "stdout",
     "output_type": "stream",
     "text": [
      "1000\n"
     ]
    },
    {
     "data": {
      "text/plain": [
       "Text(0, 0.5, 'Cumulative explained variance')"
      ]
     },
     "execution_count": 67,
     "metadata": {},
     "output_type": "execute_result"
    },
    {
     "data": {
      "image/png": "[encoded data removed]",
      "text/plain": [
       "<Figure size 1080x576 with 1 Axes>"
      ]
     },
     "metadata": {},
     "output_type": "display_data"
    }
   ],
   "source": [
    "import matplotlib.pyplot as plt\n",
    "\n",
    "NUM_COMPONENTS = 1000\n",
    "\n",
    "sklearn_pca = PCA(NUM_COMPONENTS)\n",
    "\n",
    "Y_sklearn = sklearn_pca.fit_transform(tf_idf_array)\n",
    "\n",
    "variance_explained = np.cumsum(sklearn_pca.explained_variance_)\n",
    "\n",
    "print(len(Y_sklearn[0]))\n",
    "\n",
    "fig, ax = plt.subplots(figsize=(15, 8))\n",
    "plt.plot(range(NUM_COMPONENTS),variance_explained, color='r')\n",
    "ax.grid(True)\n",
    "plt.xlabel(\"Number of components\")\n",
    "plt.ylabel(\"Cumulative explained variance\")\n"
   ]
  },
  {
   "cell_type": "code",
   "execution_count": null,
   "id": "0c497cb3",
   "metadata": {},
   "outputs": [],
   "source": []
  }
 ],
 "metadata": {
  "kernelspec": {
   "display_name": "Python 3",
   "language": "python",
   "name": "python3"
  },
  "language_info": {
   "codemirror_mode": {
    "name": "ipython",
    "version": 3
   },
   "file_extension": ".py",
   "mimetype": "text/x-python",
   "name": "python",
   "nbconvert_exporter": "python",
   "pygments_lexer": "ipython3",
   "version": "3.8.8"
  }
 },
 "nbformat": 4,
 "nbformat_minor": 5
}
