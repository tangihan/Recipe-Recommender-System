{
 "cells": [
  {
   "cell_type": "code",
   "execution_count": 13,
   "id": "dedfc213",
   "metadata": {},
   "outputs": [],
   "source": [
    "import pandas as pd \n",
    "\n",
    "test = pd.read_csv(\"final_dataset_cluster_4.csv\")"
   ]
  },
  {
   "cell_type": "code",
   "execution_count": null,
   "id": "fc4d1bce",
   "metadata": {},
   "outputs": [],
   "source": [
    "test = test.dropna()\n",
    "test2 = test.groupby(\"4_no_cluster\")[\"review\"].apply(list)[0]\n",
    "\n",
    "text_joined = \"\"\n",
    "for textlist in test2:\n",
    "\n",
    "    text_joined += textlist + ' '\n",
    "\n",
    "print(text_joined)\n"
   ]
  },
  {
   "cell_type": "code",
   "execution_count": null,
   "id": "34a4317a",
   "metadata": {},
   "outputs": [],
   "source": [
    "from matplotlib import pyplot as plt\n",
    "from wordcloud import WordCloud, STOPWORDS\n",
    "import matplotlib.colors as mcolors\n",
    "\n",
    "wordcloud = WordCloud(stopwords=STOPWORDS, background_color=\"white\", width=1000, height=800,collocations=False).generate(text_joined)\n",
    "plt.figure( figsize=(20,10) )\n",
    "\n",
    "plt.figure( figsize=(20,10), facecolor='k')\n",
    "plt.imshow(wordcloud)\n",
    "plt.axis(\"off\")\n",
    "plt.tight_layout(pad=0)\n",
    "plt.show()\n",
    "plt.imshow(wordcloud, interpolation='bilinear')\n",
    "plt.axis(\"off\")\n",
    "plt.show()\n",
    "wordcloud.to_file(\"UK1stLockdownCleanedWC.jpg\")\n",
    "#'hi', 'whats', 'gon'"
   ]
  },
  {
   "cell_type": "code",
   "execution_count": null,
   "id": "66fc4439",
   "metadata": {},
   "outputs": [],
   "source": []
  }
 ],
 "metadata": {
  "kernelspec": {
   "display_name": "Python 3",
   "language": "python",
   "name": "python3"
  },
  "language_info": {
   "codemirror_mode": {
    "name": "ipython",
    "version": 3
   },
   "file_extension": ".py",
   "mimetype": "text/x-python",
   "name": "python",
   "nbconvert_exporter": "python",
   "pygments_lexer": "ipython3",
   "version": "3.8.8"
  }
 },
 "nbformat": 4,
 "nbformat_minor": 5
}
