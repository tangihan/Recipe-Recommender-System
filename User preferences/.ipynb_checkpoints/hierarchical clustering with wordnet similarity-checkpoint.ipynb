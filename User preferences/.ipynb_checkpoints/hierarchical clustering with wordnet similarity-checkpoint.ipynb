{
 "cells": [
  {
   "cell_type": "code",
   "execution_count": 10,
   "id": "6035cb2d",
   "metadata": {},
   "outputs": [],
   "source": [
    "import pandas as pd \n",
    "\n",
    "pos_tag = pd.read_csv('further_filtered_pos_tag.csv')\n",
    "\n",
    "\n",
    "\n",
    "pos_tag = pos_tag[\"col\"].tolist()"
   ]
  },
  {
   "cell_type": "markdown",
   "id": "48be6577",
   "metadata": {},
   "source": [
    "# wordnet testing"
   ]
  },
  {
   "cell_type": "code",
   "execution_count": 11,
   "id": "7afa0f1f",
   "metadata": {},
   "outputs": [
    {
     "name": "stdout",
     "output_type": "stream",
     "text": [
      "hello name :   hello.n.01\n",
      "selling name :   selling.n.01\n"
     ]
    },
    {
     "data": {
      "text/plain": [
       "0.26666666666666666"
      ]
     },
     "execution_count": 11,
     "metadata": {},
     "output_type": "execute_result"
    }
   ],
   "source": [
    "\n",
    "from nltk.corpus import wordnet\n",
    " \n",
    "syn1 = wordnet.synsets('hello')[0]\n",
    "syn2 = wordnet.synsets('selling')[0]\n",
    " \n",
    "print (\"hello name :  \", syn1.name())\n",
    "print (\"selling name :  \", syn2.name())\n",
    "\n",
    "syn1.wup_similarity(syn2)\n"
   ]
  },
  {
   "cell_type": "markdown",
   "id": "fdbb806f",
   "metadata": {},
   "source": [
    "# creating the similarity matrix for POS tags"
   ]
  },
  {
   "cell_type": "code",
   "execution_count": 14,
   "id": "a4864ef2",
   "metadata": {},
   "outputs": [
    {
     "name": "stdout",
     "output_type": "stream",
     "text": [
      "word not in wordnet anadama\n",
      "word not in wordnet cheshire\n",
      "word not in wordnet dungeness\n",
      "word not in wordnet alfredo\n",
      "word not in wordnet kai\n"
     ]
    }
   ],
   "source": [
    "# filtering out words not in the wordnet library or have no similarity scores with other words under wordnet\n",
    "syn_row = []\n",
    "word_row = []\n",
    "for tag in pos_tag:\n",
    "    try:\n",
    "        test = wordnet.synsets(tag)[0]\n",
    "        syn_row.append(test)\n",
    "        word_row.append(tag)\n",
    "    except:\n",
    "        print(\"word not in wordnet\",tag)"
   ]
  },
  {
   "cell_type": "code",
   "execution_count": 13,
   "id": "ed7ac6e0",
   "metadata": {},
   "outputs": [
    {
     "data": {
      "text/html": [
       "<div>\n",
       "<style scoped>\n",
       "    .dataframe tbody tr th:only-of-type {\n",
       "        vertical-align: middle;\n",
       "    }\n",
       "\n",
       "    .dataframe tbody tr th {\n",
       "        vertical-align: top;\n",
       "    }\n",
       "\n",
       "    .dataframe thead th {\n",
       "        text-align: right;\n",
       "    }\n",
       "</style>\n",
       "<table border=\"1\" class=\"dataframe\">\n",
       "  <thead>\n",
       "    <tr style=\"text-align: right;\">\n",
       "      <th></th>\n",
       "      <th>tag</th>\n",
       "      <th>baked</th>\n",
       "      <th>bread</th>\n",
       "      <th>breadstick</th>\n",
       "      <th>brown</th>\n",
       "      <th>bun</th>\n",
       "      <th>caraway</th>\n",
       "      <th>seed</th>\n",
       "      <th>challah</th>\n",
       "      <th>cinnamon</th>\n",
       "      <th>...</th>\n",
       "      <th>lobster</th>\n",
       "      <th>mussel</th>\n",
       "      <th>squid</th>\n",
       "      <th>rocky</th>\n",
       "      <th>mountain</th>\n",
       "      <th>round</th>\n",
       "      <th>slop</th>\n",
       "      <th>yogurt</th>\n",
       "      <th>blueberry</th>\n",
       "      <th>frozen</th>\n",
       "    </tr>\n",
       "  </thead>\n",
       "  <tbody>\n",
       "    <tr>\n",
       "      <th>0</th>\n",
       "      <td>baked</td>\n",
       "      <td>1.000000</td>\n",
       "      <td>0.153846</td>\n",
       "      <td>0.142857</td>\n",
       "      <td>0.142857</td>\n",
       "      <td>0.142857</td>\n",
       "      <td>0.125000</td>\n",
       "      <td>0.125000</td>\n",
       "      <td>0.142857</td>\n",
       "      <td>0.142857</td>\n",
       "      <td>...</td>\n",
       "      <td>0.142857</td>\n",
       "      <td>0.142857</td>\n",
       "      <td>0.153846</td>\n",
       "      <td>0.285714</td>\n",
       "      <td>0.166667</td>\n",
       "      <td>0.133333</td>\n",
       "      <td>0.153846</td>\n",
       "      <td>0.166667</td>\n",
       "      <td>0.117647</td>\n",
       "      <td>0.250000</td>\n",
       "    </tr>\n",
       "    <tr>\n",
       "      <th>1</th>\n",
       "      <td>bread</td>\n",
       "      <td>0.153846</td>\n",
       "      <td>1.000000</td>\n",
       "      <td>0.941176</td>\n",
       "      <td>0.133333</td>\n",
       "      <td>0.941176</td>\n",
       "      <td>0.235294</td>\n",
       "      <td>0.235294</td>\n",
       "      <td>0.941176</td>\n",
       "      <td>0.266667</td>\n",
       "      <td>...</td>\n",
       "      <td>0.666667</td>\n",
       "      <td>0.666667</td>\n",
       "      <td>0.714286</td>\n",
       "      <td>0.200000</td>\n",
       "      <td>0.307692</td>\n",
       "      <td>0.250000</td>\n",
       "      <td>0.666667</td>\n",
       "      <td>0.750000</td>\n",
       "      <td>0.222222</td>\n",
       "      <td>0.181818</td>\n",
       "    </tr>\n",
       "    <tr>\n",
       "      <th>2</th>\n",
       "      <td>breadstick</td>\n",
       "      <td>0.142857</td>\n",
       "      <td>0.941176</td>\n",
       "      <td>1.000000</td>\n",
       "      <td>0.125000</td>\n",
       "      <td>0.888889</td>\n",
       "      <td>0.222222</td>\n",
       "      <td>0.222222</td>\n",
       "      <td>0.888889</td>\n",
       "      <td>0.250000</td>\n",
       "      <td>...</td>\n",
       "      <td>0.625000</td>\n",
       "      <td>0.625000</td>\n",
       "      <td>0.666667</td>\n",
       "      <td>0.181818</td>\n",
       "      <td>0.285714</td>\n",
       "      <td>0.235294</td>\n",
       "      <td>0.625000</td>\n",
       "      <td>0.705882</td>\n",
       "      <td>0.210526</td>\n",
       "      <td>0.166667</td>\n",
       "    </tr>\n",
       "    <tr>\n",
       "      <th>3</th>\n",
       "      <td>brown</td>\n",
       "      <td>0.142857</td>\n",
       "      <td>0.133333</td>\n",
       "      <td>0.125000</td>\n",
       "      <td>1.000000</td>\n",
       "      <td>0.125000</td>\n",
       "      <td>0.111111</td>\n",
       "      <td>0.111111</td>\n",
       "      <td>0.125000</td>\n",
       "      <td>0.125000</td>\n",
       "      <td>...</td>\n",
       "      <td>0.125000</td>\n",
       "      <td>0.125000</td>\n",
       "      <td>0.133333</td>\n",
       "      <td>0.181818</td>\n",
       "      <td>0.142857</td>\n",
       "      <td>0.117647</td>\n",
       "      <td>0.133333</td>\n",
       "      <td>0.142857</td>\n",
       "      <td>0.105263</td>\n",
       "      <td>0.166667</td>\n",
       "    </tr>\n",
       "    <tr>\n",
       "      <th>4</th>\n",
       "      <td>bun</td>\n",
       "      <td>0.142857</td>\n",
       "      <td>0.941176</td>\n",
       "      <td>0.888889</td>\n",
       "      <td>0.125000</td>\n",
       "      <td>1.000000</td>\n",
       "      <td>0.222222</td>\n",
       "      <td>0.222222</td>\n",
       "      <td>0.888889</td>\n",
       "      <td>0.250000</td>\n",
       "      <td>...</td>\n",
       "      <td>0.625000</td>\n",
       "      <td>0.625000</td>\n",
       "      <td>0.666667</td>\n",
       "      <td>0.181818</td>\n",
       "      <td>0.285714</td>\n",
       "      <td>0.235294</td>\n",
       "      <td>0.625000</td>\n",
       "      <td>0.705882</td>\n",
       "      <td>0.210526</td>\n",
       "      <td>0.166667</td>\n",
       "    </tr>\n",
       "  </tbody>\n",
       "</table>\n",
       "<p>5 rows × 431 columns</p>\n",
       "</div>"
      ],
      "text/plain": [
       "          tag     baked     bread  breadstick     brown       bun   caraway  \\\n",
       "0       baked  1.000000  0.153846    0.142857  0.142857  0.142857  0.125000   \n",
       "1       bread  0.153846  1.000000    0.941176  0.133333  0.941176  0.235294   \n",
       "2  breadstick  0.142857  0.941176    1.000000  0.125000  0.888889  0.222222   \n",
       "3       brown  0.142857  0.133333    0.125000  1.000000  0.125000  0.111111   \n",
       "4         bun  0.142857  0.941176    0.888889  0.125000  1.000000  0.222222   \n",
       "\n",
       "       seed   challah  cinnamon  ...   lobster    mussel     squid     rocky  \\\n",
       "0  0.125000  0.142857  0.142857  ...  0.142857  0.142857  0.153846  0.285714   \n",
       "1  0.235294  0.941176  0.266667  ...  0.666667  0.666667  0.714286  0.200000   \n",
       "2  0.222222  0.888889  0.250000  ...  0.625000  0.625000  0.666667  0.181818   \n",
       "3  0.111111  0.125000  0.125000  ...  0.125000  0.125000  0.133333  0.181818   \n",
       "4  0.222222  0.888889  0.250000  ...  0.625000  0.625000  0.666667  0.181818   \n",
       "\n",
       "   mountain     round      slop    yogurt  blueberry    frozen  \n",
       "0  0.166667  0.133333  0.153846  0.166667   0.117647  0.250000  \n",
       "1  0.307692  0.250000  0.666667  0.750000   0.222222  0.181818  \n",
       "2  0.285714  0.235294  0.625000  0.705882   0.210526  0.166667  \n",
       "3  0.142857  0.117647  0.133333  0.142857   0.105263  0.166667  \n",
       "4  0.285714  0.235294  0.625000  0.705882   0.210526  0.166667  \n",
       "\n",
       "[5 rows x 431 columns]"
      ]
     },
     "execution_count": 13,
     "metadata": {},
     "output_type": "execute_result"
    }
   ],
   "source": [
    "# creation of the similarity matrix\n",
    "syn_matrix = []\n",
    "for i in range(len(syn_row)):\n",
    "    syn_row[i]\n",
    "    rowlist = []\n",
    "    rowlist.append(word_row[i])\n",
    "    for col in syn_row:\n",
    "        score = syn_row[i].wup_similarity(col)\n",
    "        rowlist.append(score)\n",
    "    syn_matrix.append(rowlist)\n",
    "    \n",
    "\n",
    "\n",
    "# creating df object with columns specified \n",
    "word_row = [\"tag\"] + word_row\n",
    "df = pd.DataFrame(syn_matrix, columns = word_row) \n",
    "df.head()"
   ]
  },
  {
   "cell_type": "code",
   "execution_count": 15,
   "id": "b4e2f1f8",
   "metadata": {},
   "outputs": [
    {
     "data": {
      "text/plain": [
       "(430, 431)"
      ]
     },
     "execution_count": 15,
     "metadata": {},
     "output_type": "execute_result"
    }
   ],
   "source": [
    "df.shape"
   ]
  },
  {
   "cell_type": "code",
   "execution_count": 17,
   "id": "b31c634b",
   "metadata": {},
   "outputs": [],
   "source": [
    "df.to_csv(\"similarity_matrix.csv\")"
   ]
  },
  {
   "cell_type": "code",
   "execution_count": 18,
   "id": "fd54fd4c",
   "metadata": {},
   "outputs": [
    {
     "name": "stdout",
     "output_type": "stream",
     "text": [
      "['baked', 'bread', 'breadstick', 'brown', 'bun', 'caraway', 'seed', 'challah', 'cinnamon', 'cracker', 'crouton', 'dark', 'muffin', 'flatbread', 'garlic', 'gluten', 'host', 'loaf', 'matzo', 'onion', 'raisin', 'rye', 'sour', 'toast', 'wafer', 'white', 'cake', 'fish', 'applesauce', 'cream', 'pie', 'cheesecake', 'chiffon', 'chocolate', 'coconut', 'coffeecake', 'cookie', 'crumb', 'crumpet', 'cupcake', 'fruitcake', 'genoise', 'gingerbread', 'honey', 'pancake', 'prune', 'savarin', 'spice', 'sponge', 'teacake', 'torte', 'sandwich', 'waffle', 'pastry', 'puff', 'paste', 'baklava', 'frangipane', 'patty', 'shell', 'crust', 'sausage', 'streusel', 'strudel', 'tart', 'timbale', 'breakfast', 'cereal', 'barley', 'corn', 'grain', 'millet', 'oat', 'pearl', 'rice', 'wheat', 'buckwheat', 'groats', 'malt', 'cold', 'hot', 'muesli', 'butter', 'ghee', 'drumstick', 'yak', 'cheese', 'blue', 'gorgonzola', 'roquefort', 'stilton', 'brie', 'camembert', 'cheddar', 'cottage', 'double', 'mascarpone', 'gloucester', 'edam', 'goat', 'gouda', 'grated', 'mozzarella', 'muenster', 'parmesan', 'quark', 'ricotta', 'string', 'swiss', 'emmenthal', 'gruyere', 'triple', 'velveeta', 'bitter', 'bittersweet', 'candy', 'choc', 'bar', 'kiss', 'jimmies', 'liquor', 'cocoa', 'powder', 'milk', 'convenience', 'charcuterie', 'brownie', 'lemonade', 'takeout', 'dinner', 'fingerling', 'herring', 'salmon', 'sea', 'bass', 'snapper', 'sole', 'trout', 'tuna', 'whitefish', 'northern', 'rough', 'young', 'brit', 'whitebait', 'anchovy', 'mediterranean', 'eel', 'smoked', 'common', 'haddock', 'hake', 'ling', 'silver', 'liza', 'striped', 'atlantic', 'chinook', 'coho', 'sockeye', 'red', 'river', 'dip', 'crab', 'fiddler', 'king', 'pea', 'spider', 'legs', 'japanese', 'prawn', 'safety', 'scallop', 'shark', 'angel', 'cow', 'mackerel', 'shrimp', 'snapping', 'fresh', 'health', 'junk', 'leftovers', 'meat', 'lunch', 'scrapple', 'prowl', 'beef', 'angus', 'pastrami', 'bird', 'hen', 'poultry', 'brisket', 'lamb', 'mutton', 'pork', 'veal', 'forequarter', 'leg', 'loin', 'neck', 'rack', 'rib', 'roast', 'shank', 'shoulder', 'side', 'sirloin', 'steak', 'tenderloin', 'quench', 'subtract', 'thin', 'peel', 'crop', 'digest', 'water', 'escargot', 'ducks', 'buffalo', 'rabbit', 'venison', 'ante', 'jerky', 'hog', 'persian', 'feet', 'salt', 'raw', 'blood', 'bologna', 'chorizo', 'liver', 'pudding', 'pepperoni', 'salami', 'stew', 'variety', 'brain', 'giblet', 'heart', 'offal', 'stomach', 'tongue', 'bare', 'bones', 'stuff', 'animal', 'fiber', 'plant', 'radioactive', 'rind', 'sealing', 'thickening', 'jam', 'overstuff', 'pad', 'pasta', 'cannelloni', 'lasagna', 'macaroni', 'spaghetti', 'couscous', 'dumpling', 'gnocchi', 'ball', 'apple', 'farfalle', 'fettuccine', 'linguine', 'manicotti', 'mostaccioli', 'noodle', 'egg', 'orzo', 'penne', 'ravioli', 'rigatoni', 'spaghettini', 'tagliatelle', 'tortellini', 'vermicelli', 'ziti', 'produce', 'eater', 'glutton', 'mouth', 'omnivore', 'vegetarian', 'edible', 'fruit', 'pear', 'apricot', 'avocado', 'banana', 'barbados', 'gooseberry', 'berry', 'breadfruit', 'canistel', 'plum', 'cherry', 'citrus', 'cling', 'custard', 'date', 'dried', 'elderberry', 'fig', 'freestone', 'grape', 'guava', 'jackfruit', 'kiwi', 'loquat', 'mango', 'melon', 'nectarine', 'papaya', 'passion', 'peach', 'pineapple', 'pomegranate', 'prickly', 'quince', 'rose', 'tamarind', 'tangelo', 'vegetable', 'artichoke', 'asparagus', 'bamboo', 'shoot', 'celery', 'cruciferous', 'cucumber', 'fennel', 'greens', 'gumbo', 'leek', 'legume', 'mushroom', 'plantain', 'pumpkin', 'root', 'squash', 'truffle', 'beet', 'spinach', 'oven', 'grind', 'production', 'formation', 'brittle', 'butterscotch', 'cane', 'caramel', 'carob', 'cotton', 'easter', 'fondant', 'fudge', 'gumdrop', 'hard', 'crisp', 'jelly', 'bean', 'licorice', 'lollipop', 'marshmallow', 'marzipan', 'mint', 'nougat', 'nut', 'peanut', 'popcorn', 'praline', 'sugar', 'taffy', 'turkish', 'delight', 'gin', 'freeze', 'coal', 'dehydrate', 'pickle', 'refrigerate', 'reward', 'green', 'floral', 'frond', 'greenery', 'rosette', 'caper', 'bud', 'alfalfa', 'seafood', 'catfish', 'pike', 'sucker', 'octopus', 'large', 'myrtle', 'roe', 'caviar', 'coral', 'saltwater', 'bluefish', 'butterfish', 'cod', 'grouper', 'monkfish', 'pollack', 'rockfish', 'swordfish', 'whiting', 'shellfish', 'clam', 'crayfish', 'lobster', 'mussel', 'squid', 'rocky', 'mountain', 'round', 'slop', 'yogurt', 'blueberry', 'frozen']\n"
     ]
    }
   ],
   "source": [
    "print(word_row)"
   ]
  },
  {
   "cell_type": "markdown",
   "id": "755305ce",
   "metadata": {},
   "source": [
    "# hierarchical clustering "
   ]
  },
  {
   "cell_type": "code",
   "execution_count": 19,
   "id": "bd4b26b8",
   "metadata": {},
   "outputs": [
    {
     "name": "stderr",
     "output_type": "stream",
     "text": [
      "<ipython-input-19-bc4e387e8532>:11: DeprecationWarning: Call to deprecated `syn0` (Attribute will be removed in 4.0.0, use self.vectors instead).\n",
      "  l = linkage(model.wv.syn0, method='complete', metric='seuclidean')\n"
     ]
    },
    {
     "data": {
      "image/png": "[encoded data removed]",
      "text/plain": [
       "<Figure size 1800x720 with 1 Axes>"
      ]
     },
     "metadata": {
      "needs_background": "light"
     },
     "output_type": "display_data"
    }
   ],
   "source": [
    "# this is word2vec and it is cursed \n",
    "\n",
    "# sentences = word_row\n",
    "# sentences_split = [s.lower().split(' ') for s in sentences]\n",
    "\n",
    "# import gensim\n",
    "# model = gensim.models.Word2Vec(sentences_split, min_count=1)\n",
    "\n",
    "# from matplotlib import pyplot as plt\n",
    "# from scipy.cluster.hierarchy import dendrogram, linkage\n",
    "\n",
    "# l = linkage(model.wv.syn0, method='complete', metric='seuclidean')\n",
    "\n",
    "# # calculate full dendrogram\n",
    "# plt.figure(figsize=(25, 10))\n",
    "# plt.title('Hierarchical Clustering Dendrogram')\n",
    "# plt.ylabel('word')\n",
    "# plt.xlabel('distance')\n",
    "\n",
    "# dendrogram(\n",
    "#     l,\n",
    "#     leaf_rotation=90.,  # rotates the x axis labels\n",
    "#     leaf_font_size=16.,  # font size for the x axis labels\n",
    "#     orientation='left',\n",
    "#     leaf_label_func=lambda v: str(model.wv.index2word[v])\n",
    "# )\n",
    "# plt.show()"
   ]
  },
  {
   "cell_type": "code",
   "execution_count": 20,
   "id": "6c0541de",
   "metadata": {},
   "outputs": [],
   "source": [
    " \n",
    "\n",
    "import numpy as np\n",
    "import matplotlib.pyplot as plt\n",
    "from scipy.spatial.distance import pdist, squareform\n",
    "from scipy.cluster.hierarchy import linkage, dendrogram"
   ]
  },
  {
   "cell_type": "code",
   "execution_count": 21,
   "id": "839bb640",
   "metadata": {},
   "outputs": [
    {
     "data": {
      "image/png": "[encoded data removed]",
      "text/plain": [
       "<Figure size 576x576 with 1 Axes>"
      ]
     },
     "metadata": {
      "needs_background": "light"
     },
     "output_type": "display_data"
    }
   ],
   "source": [
    "\n",
    "\n",
    " \n",
    "# first we have to determine the number of clusters estimate this is done through Dendrogram \n",
    "# the line furthest from each other without horizontal line is considered optimal\n",
    "# in this case it is 5 or 6\n",
    "import pandas as pd\n",
    "import numpy as np\n",
    "import matplotlib.pyplot as plt\n",
    "from sklearn.decomposition import PCA\n",
    "from sklearn.cluster import AgglomerativeClustering\n",
    "from sklearn.preprocessing import StandardScaler, normalize\n",
    "from sklearn.metrics import silhouette_score\n",
    "import scipy.cluster.hierarchy as shc\n",
    "\n",
    "similarity_matrix = pd.read_csv(\"similarity_matrix.csv\")\n",
    "df_drop = df.drop(columns=\"tag\")\n",
    "\n",
    "plt.figure(figsize =(8, 8))\n",
    "plt.title('Visualising the data')\n",
    "Dendrogram = shc.dendrogram((shc.linkage(df_drop, method ='ward')))\n"
   ]
  },
  {
   "cell_type": "code",
   "execution_count": null,
   "id": "98c3e217",
   "metadata": {},
   "outputs": [],
   "source": [
    "# this is the clustering algorithem it labels the POS tags from cluster 1 to 6\n",
    "from sklearn.cluster import AgglomerativeClustering\n",
    "cluster = AgglomerativeClustering(n_clusters=6, affinity='precomputed', linkage='complete')  \n",
    "cluster.fit_predict(df_drop)"
   ]
  },
  {
   "cell_type": "code",
   "execution_count": 22,
   "id": "37f64258",
   "metadata": {},
   "outputs": [
    {
     "name": "stdout",
     "output_type": "stream",
     "text": [
      "4 silouette score 0.5315956985612283\n",
      "5 silouette score 0.5035798373150294\n",
      "6 silouette score 0.5101998829504389\n"
     ]
    },
    {
     "data": {
      "image/png": "[encoded data removed]",
      "text/plain": [
       "<Figure size 432x288 with 1 Axes>"
      ]
     },
     "metadata": {
      "needs_background": "light"
     },
     "output_type": "display_data"
    },
    {
     "data": {
      "text/plain": [
       "<Figure size 1080x720 with 0 Axes>"
      ]
     },
     "metadata": {},
     "output_type": "display_data"
    }
   ],
   "source": [
    "\n",
    "import numpy as np\n",
    "import matplotlib.pyplot as plt\n",
    "from sklearn.decomposition import PCA\n",
    "from sklearn.cluster import AgglomerativeClustering\n",
    "from sklearn.preprocessing import StandardScaler, normalize\n",
    "from sklearn.metrics import silhouette_score\n",
    "import scipy.cluster.hierarchy as shc\n",
    "\n",
    "# calculation of silouette score according to score 4 is the best cluster\n",
    "\n",
    "\n",
    "\n",
    "k = [2, 3, 4, 5, 6,7,8,9,10,11,12,13,14,15,16,17]\n",
    "  \n",
    "# Appending the silhouette scores of the different models to the list\n",
    "silhouette_scores = []\n",
    "for i in k:\n",
    "    clustermodel = AgglomerativeClustering(n_clusters = i)\n",
    "    score = silhouette_score(df_drop, clustermodel.fit_predict(df_drop))\n",
    "    silhouette_scores.append(score)\n",
    "    if i == 4 or i == 5 or i == 6:\n",
    "        print(i,\"silouette score\",score)\n",
    "plt.bar(k, silhouette_scores)\n",
    "plt.xlabel('Number of clusters', fontsize = 20)\n",
    "plt.ylabel('S(i)', fontsize = 20)\n",
    "plt.figure(figsize=(15,10))\n",
    "plt.show()\n",
    "\n"
   ]
  },
  {
   "cell_type": "code",
   "execution_count": 23,
   "id": "207208a7",
   "metadata": {},
   "outputs": [],
   "source": [
    "# adding columns to the POS tags\n",
    "k = [4,5,6]\n",
    "  \n",
    "# Appending the silhouette scores of the different models to the list\n",
    "\n",
    "for i in k:\n",
    "    clustermodel = AgglomerativeClustering(n_clusters = i)\n",
    "    clustermodel.fit_predict(df_drop)\n",
    "\n",
    "# len(labels)\n",
    "    string =  str(i) + \"_no_cluster\" \n",
    "    df[string] = clustermodel.labels_"
   ]
  },
  {
   "cell_type": "code",
   "execution_count": 24,
   "id": "a6c62230",
   "metadata": {},
   "outputs": [],
   "source": [
    "df_word = df[[\"tag\",\"4_no_cluster\",\"5_no_cluster\",\"6_no_cluster\"]]"
   ]
  },
  {
   "cell_type": "code",
   "execution_count": null,
   "id": "b6e29e03",
   "metadata": {},
   "outputs": [],
   "source": [
    "df_word.to_csv(\"tag_cluster.csv\",index=False)"
   ]
  },
  {
   "cell_type": "code",
   "execution_count": null,
   "id": "dc138b2a",
   "metadata": {},
   "outputs": [],
   "source": [
    "import numpy as np\n",
    "import pandas as pd\n",
    "df_word = pd.read_csv(\"pos_tag_cluster.csv\")"
   ]
  },
  {
   "cell_type": "code",
   "execution_count": 25,
   "id": "3430c1fc",
   "metadata": {},
   "outputs": [
    {
     "data": {
      "text/plain": [
       "(430, 4)"
      ]
     },
     "execution_count": 25,
     "metadata": {},
     "output_type": "execute_result"
    }
   ],
   "source": [
    "df_word.shape"
   ]
  },
  {
   "cell_type": "markdown",
   "id": "043bcc29",
   "metadata": {},
   "source": [
    "Assigning reviews to cluster based on the words in their review, is based on a dictionary score\n",
    "\n",
    "if a word is inside the review it will get one score for that cluster. \n",
    "\n",
    "At the end it will take the max score and assgin it to that cluster"
   ]
  },
  {
   "cell_type": "code",
   "execution_count": null,
   "id": "3b96bd39",
   "metadata": {},
   "outputs": [],
   "source": [
    "# dont run this or your com will die \n",
    "import numpy as np\n",
    "import pandas as pd\n",
    "df_word = pd.read_csv(\"tag_cluster.csv\")\n",
    "ori_df = pd.read_csv('../Data/Raw Data/final_dataset_log.csv')\n",
    "\n",
    "i = 0\n",
    "j = 0\n",
    "wordcloudlist = []\n",
    "\n",
    "for index,row in ori_df.iterrows():\n",
    "    score = {0:0,1:0,2:0,3:0,4:0,5:0}\n",
    "#     k_cluster = [\"4_no_cluster\",\"5_no_cluster\",\"6_no_cluster\"]\n",
    "    k_cluster = [\"5_no_cluster\"]\n",
    "    for k in k_cluster:\n",
    "        \n",
    "        inside = False\n",
    "        for index2,posword_row in df_word.iterrows():\n",
    "            \n",
    "            if posword_row[\"tag\"] in row[\"review\"]:\n",
    "                inside = True\n",
    "                score[int(posword_row[k])] += 1\n",
    "                print(int(posword_row[k]))\n",
    "        \n",
    "        if inside:\n",
    "            print(\"inside\")\n",
    "            clusterbelong = max(score, key=score.get)\n",
    "\n",
    "\n",
    "            ori_df.loc[index,k] = clusterbelong\n",
    "        else:\n",
    "            print(\"not inside\")\n",
    "            ori_df.at[index,k] = np.nan\n",
    "\n",
    "        \n",
    "        \n",
    "        print(\"belongs in cluster: \")\n",
    "        print(clusterbelong)\n",
    "        print(\"-----------\")\n",
    "        print(score)\n",
    "\n",
    "    print(i,row[\"review\"])\n",
    "    print\n",
    "\n",
    "    \n",
    "ori_df.to_csv(\"final_dataset_cluster.csv\")"
   ]
  },
  {
   "cell_type": "code",
   "execution_count": null,
   "id": "1273de2f",
   "metadata": {},
   "outputs": [],
   "source": [
    "ori_df.to_csv(\"final_dataset_cluster_5.csv\")"
   ]
  },
  {
   "cell_type": "code",
   "execution_count": null,
   "id": "6decb0b9",
   "metadata": {
    "scrolled": false
   },
   "outputs": [],
   "source": [
    " ori_df"
   ]
  },
  {
   "cell_type": "code",
   "execution_count": null,
   "id": "d78f5a98",
   "metadata": {},
   "outputs": [],
   "source": [
    "ori_df.info()"
   ]
  },
  {
   "cell_type": "code",
   "execution_count": null,
   "id": "5ac3a938",
   "metadata": {},
   "outputs": [],
   "source": []
  }
 ],
 "metadata": {
  "kernelspec": {
   "display_name": "Python 3",
   "language": "python",
   "name": "python3"
  },
  "language_info": {
   "codemirror_mode": {
    "name": "ipython",
    "version": 3
   },
   "file_extension": ".py",
   "mimetype": "text/x-python",
   "name": "python",
   "nbconvert_exporter": "python",
   "pygments_lexer": "ipython3",
   "version": "3.8.8"
  }
 },
 "nbformat": 4,
 "nbformat_minor": 5
}
